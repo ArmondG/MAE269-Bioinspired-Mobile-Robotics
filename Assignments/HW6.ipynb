{
 "cells": [
  {
   "cell_type": "code",
   "execution_count": 1,
   "id": "cf76f960",
   "metadata": {},
   "outputs": [],
   "source": [
    "\n",
    "import sympy as sp\n",
    "from sympy import symbols, pprint\n",
    "from sympy import sin, cos, asin, acos, pi\n",
    "from sympy import Matrix, simplify, Function, diff, Derivative, nsimplify\n",
    "from sympy import lambdify, diag\n",
    "\n",
    "import numpy as np\n",
    "\n",
    "import matplotlib as mpl\n",
    "mpl.use('Qt5Agg')\n",
    "\n",
    "import matplotlib.pyplot as plt\n",
    "plt.ion()\n",
    "\n",
    "\n",
    "mpl.rcParams['axes.titlesize'] = 24\n",
    "mpl.rcParams['axes.labelsize'] = 20\n",
    "mpl.rcParams['lines.linewidth'] = 3\n",
    "mpl.rcParams['lines.markersize'] = 10\n",
    "mpl.rcParams['xtick.labelsize'] = 16\n",
    "mpl.rcParams['ytick.labelsize'] = 16\n",
    "\n",
    "from IPython.display import display\n",
    "sp.init_printing(use_latex=True);"
   ]
  },
  {
   "cell_type": "code",
   "execution_count": 2,
   "id": "4d0b6a95",
   "metadata": {},
   "outputs": [],
   "source": [
    "%qtconsole"
   ]
  },
  {
   "cell_type": "markdown",
   "id": "87514c73",
   "metadata": {},
   "source": [
    "## 1 Viscous forces on a flexible arm"
   ]
  },
  {
   "cell_type": "markdown",
   "id": "e08a6a10",
   "metadata": {},
   "source": [
    "## 1."
   ]
  },
  {
   "cell_type": "code",
   "execution_count": 3,
   "id": "c97f4934",
   "metadata": {},
   "outputs": [],
   "source": [
    "(t, \n",
    " theta_1, \n",
    " theta_2, \n",
    " theta_3, \n",
    " l_1, \n",
    " l_2, \n",
    " l_3, \n",
    " s) = symbols(\"\"\"t, \n",
    "                 theta_1 \n",
    "                 theta_2 \n",
    "                 theta_3 \n",
    "                 l_1 \n",
    "                 l_2 \n",
    "                 l_3\n",
    "                 s\"\"\" , real = True)\n",
    "\n",
    "\n",
    "theta_1 = Function('theta_1', real=True)(t)\n",
    "theta_2 = Function('theta_2', real=True)(t)\n",
    "theta_3 = Function('theta_3', real=True)(t)"
   ]
  },
  {
   "cell_type": "code",
   "execution_count": 4,
   "id": "69b253f2",
   "metadata": {},
   "outputs": [],
   "source": [
    "def T(theta, x, y):\n",
    "    \"\"\"\n",
    "    Function to return an arbitrary transformation matrix \n",
    "    This is for sympy symbolic calculation\n",
    "    \"\"\"\n",
    "    return Matrix([[cos(theta), -sin(theta), x], \n",
    "                   [sin(theta), cos(theta), y],\n",
    "                   [0, 0, 1]])\n",
    "def sym_to_np(T):\n",
    "    return np.array(T).astype(np.float64)"
   ]
  },
  {
   "cell_type": "code",
   "execution_count": 5,
   "id": "bb2aac01",
   "metadata": {},
   "outputs": [],
   "source": [
    "T_01 = T(theta_1, 0, 0)\n",
    "T_12 = T(theta_2, l_1, 0)\n",
    "T_23 = T(theta_3, l_2, 0)"
   ]
  },
  {
   "cell_type": "code",
   "execution_count": 6,
   "id": "091efccc",
   "metadata": {},
   "outputs": [
    {
     "data": {
      "text/latex": [
       "$\\displaystyle \\left[\\begin{matrix}- s \\sin{\\left(\\theta_{1}{\\left(t \\right)} \\right)} & 0 & 0\\\\s \\cos{\\left(\\theta_{1}{\\left(t \\right)} \\right)} & 0 & 0\\end{matrix}\\right]$"
      ],
      "text/plain": [
       "⎡-s⋅sin(θ₁(t))  0  0⎤\n",
       "⎢                   ⎥\n",
       "⎣s⋅cos(θ₁(t))   0  0⎦"
      ]
     },
     "metadata": {},
     "output_type": "display_data"
    },
    {
     "data": {
      "text/latex": [
       "$\\displaystyle \\left[\\begin{matrix}- l_{1} \\sin{\\left(\\theta_{1}{\\left(t \\right)} \\right)} - s \\sin{\\left(\\theta_{1}{\\left(t \\right)} + \\theta_{2}{\\left(t \\right)} \\right)} & - s \\sin{\\left(\\theta_{1}{\\left(t \\right)} + \\theta_{2}{\\left(t \\right)} \\right)} & 0\\\\l_{1} \\cos{\\left(\\theta_{1}{\\left(t \\right)} \\right)} + s \\cos{\\left(\\theta_{1}{\\left(t \\right)} + \\theta_{2}{\\left(t \\right)} \\right)} & s \\cos{\\left(\\theta_{1}{\\left(t \\right)} + \\theta_{2}{\\left(t \\right)} \\right)} & 0\\end{matrix}\\right]$"
      ],
      "text/plain": [
       "⎡-l₁⋅sin(θ₁(t)) - s⋅sin(θ₁(t) + θ₂(t))  -s⋅sin(θ₁(t) + θ₂(t))  0⎤\n",
       "⎢                                                               ⎥\n",
       "⎣l₁⋅cos(θ₁(t)) + s⋅cos(θ₁(t) + θ₂(t))   s⋅cos(θ₁(t) + θ₂(t))   0⎦"
      ]
     },
     "metadata": {},
     "output_type": "display_data"
    },
    {
     "data": {
      "text/latex": [
       "$\\displaystyle \\left[\\begin{matrix}- l_{1} \\sin{\\left(\\theta_{1}{\\left(t \\right)} \\right)} - l_{2} \\sin{\\left(\\theta_{1}{\\left(t \\right)} + \\theta_{2}{\\left(t \\right)} \\right)} - s \\sin{\\left(\\theta_{1}{\\left(t \\right)} + \\theta_{2}{\\left(t \\right)} + \\theta_{3}{\\left(t \\right)} \\right)} & - l_{2} \\sin{\\left(\\theta_{1}{\\left(t \\right)} + \\theta_{2}{\\left(t \\right)} \\right)} - s \\sin{\\left(\\theta_{1}{\\left(t \\right)} + \\theta_{2}{\\left(t \\right)} + \\theta_{3}{\\left(t \\right)} \\right)} & - s \\sin{\\left(\\theta_{1}{\\left(t \\right)} + \\theta_{2}{\\left(t \\right)} + \\theta_{3}{\\left(t \\right)} \\right)}\\\\l_{1} \\cos{\\left(\\theta_{1}{\\left(t \\right)} \\right)} + l_{2} \\cos{\\left(\\theta_{1}{\\left(t \\right)} + \\theta_{2}{\\left(t \\right)} \\right)} + s \\cos{\\left(\\theta_{1}{\\left(t \\right)} + \\theta_{2}{\\left(t \\right)} + \\theta_{3}{\\left(t \\right)} \\right)} & l_{2} \\cos{\\left(\\theta_{1}{\\left(t \\right)} + \\theta_{2}{\\left(t \\right)} \\right)} + s \\cos{\\left(\\theta_{1}{\\left(t \\right)} + \\theta_{2}{\\left(t \\right)} + \\theta_{3}{\\left(t \\right)} \\right)} & s \\cos{\\left(\\theta_{1}{\\left(t \\right)} + \\theta_{2}{\\left(t \\right)} + \\theta_{3}{\\left(t \\right)} \\right)}\\end{matrix}\\right]$"
      ],
      "text/plain": [
       "⎡-l₁⋅sin(θ₁(t)) - l₂⋅sin(θ₁(t) + θ₂(t)) - s⋅sin(θ₁(t) + θ₂(t) + θ₃(t))  -l₂⋅si\n",
       "⎢                                                                             \n",
       "⎣l₁⋅cos(θ₁(t)) + l₂⋅cos(θ₁(t) + θ₂(t)) + s⋅cos(θ₁(t) + θ₂(t) + θ₃(t))   l₂⋅cos\n",
       "\n",
       "n(θ₁(t) + θ₂(t)) - s⋅sin(θ₁(t) + θ₂(t) + θ₃(t))  -s⋅sin(θ₁(t) + θ₂(t) + θ₃(t))\n",
       "                                                                              \n",
       "(θ₁(t) + θ₂(t)) + s⋅cos(θ₁(t) + θ₂(t) + θ₃(t))   s⋅cos(θ₁(t) + θ₂(t) + θ₃(t)) \n",
       "\n",
       "⎤\n",
       "⎥\n",
       "⎦"
      ]
     },
     "metadata": {},
     "output_type": "display_data"
    }
   ],
   "source": [
    "FK1 = (T_01 * Matrix([[s], [0], [1]]))[:-1,0]\n",
    "FK2 = simplify((T_01 * T_12 * Matrix([[s], [0], [1]]))[:-1,0])\n",
    "FK3 = simplify((T_01 * T_12 * T_23 * Matrix([[s], [0], [1]]))[:-1,0])\n",
    "J1 = FK1.jacobian([theta_1, theta_2, theta_3])\n",
    "J2 = simplify(FK2.jacobian([theta_1, theta_2, theta_3]))\n",
    "J3 = simplify(FK3.jacobian([theta_1, theta_2, theta_3]))\n",
    "display(J1)\n",
    "display(J2)\n",
    "display(J3)\n"
   ]
  },
  {
   "cell_type": "markdown",
   "id": "5c262e13",
   "metadata": {},
   "source": [
    "## 2."
   ]
  },
  {
   "cell_type": "code",
   "execution_count": 7,
   "id": "93715e4f",
   "metadata": {},
   "outputs": [],
   "source": [
    "def draw_robot(ordered_list_of_transformations):\n",
    "    \"\"\"\n",
    "    Draw the configuration of the three-link jumper.\n",
    "    \"\"\"\n",
    "    ax_lw = 3\n",
    "    link_lw = 1\n",
    "\n",
    "    # homogeneous unit vectors \n",
    "    x = np.array([[1, 0, 1]]).T \n",
    "    y = np.array([[0, 1, 1]]).T\n",
    "    origin = np.array([[0, 0, 1]]).T\n",
    "\n",
    "    prev_origin = np.array([[0, 0, 1]]).T    \n",
    "    current_transformation = np.eye(3)\n",
    "\n",
    "    plt.clf()\n",
    "    ax = plt.gca()  # get current axis\n",
    "\n",
    "    # now we plot\n",
    "    plt.plot([prev_origin[0][0]], [prev_origin[1][0]], '-ko',linewidth=link_lw)\n",
    "    plt.plot([prev_origin[0][0], x[0][0]], [prev_origin[1][0], x[1][0]], '-ro', linewidth=ax_lw)\n",
    "    plt.plot([prev_origin[0][0], y[0][0]], [prev_origin[1][0], y[1][0]], '-go', linewidth=ax_lw)\n",
    "\n",
    "\n",
    "    # loop the transforms in order of T_01, T_12, ... , T_N-1N\n",
    "    for k, transform in enumerate(ordered_list_of_transformations):\n",
    "\n",
    "        # update the transformation\n",
    "        current_transformation = current_transformation @ transform\n",
    "        new_origin = current_transformation @ origin\n",
    "        new_x = current_transformation @ x\n",
    "        new_y = current_transformation @ y\n",
    "\n",
    "        # now we plot\n",
    "        plt.plot([prev_origin[0][0], new_origin[0][0]], \n",
    "                 [prev_origin[1][0], new_origin[1][0]], \n",
    "                 '-ko',linewidth=link_lw)\n",
    "        \n",
    "        plt.plot([new_origin[0][0], new_x[0][0]], [new_origin[1][0], new_x[1][0]], '-r', linewidth=ax_lw)\n",
    "        plt.plot([new_origin[0][0], new_y[0][0]], [new_origin[1][0], new_y[1][0]], '-g', linewidth=ax_lw)\n",
    "\n",
    "\n",
    "#         ax.annotate('{'+str(k+1)+'}', xy=new_origin[0:2][0], xytext=new_origin[0:2][0])\n",
    "\n",
    "        # lastly update the current_origin to the new_origin\n",
    "        prev_origin = new_origin\n",
    "\n",
    "    # lastly set the axes to be equal and appropriate\n",
    "    ax.set_aspect('equal')\n",
    "    ax.set_xlabel('x')\n",
    "    ax.set_ylabel('y')    "
   ]
  },
  {
   "cell_type": "code",
   "execution_count": 8,
   "id": "4e3d0ad9",
   "metadata": {},
   "outputs": [],
   "source": [
    "linklength = 1\n",
    "\n",
    "time = np.linspace(0,15,100)\n",
    "theta1 = list(np.pi/2*np.sin(time))\n",
    "A = -np.pi/6\n",
    "phi = np.pi/4\n",
    "b = 3\n",
    "psy = -np.pi/8\n",
    "theta2 = list(A*np.sin(time+phi)**b+psy)\n",
    "A3 = -3*np.pi/8\n",
    "phi3 = np.pi/4\n",
    "b3 = 1\n",
    "psy3 = -np.pi/6\n",
    "theta3 = list(A3*np.sin(time+phi3)**b3+psy3)\n",
    "\n",
    "T_01_real = lambdify(theta_1, T_01)\n",
    "T_12_real = lambdify([theta_2, l_1], T_12)\n",
    "T_23_real = lambdify([theta_3, l_2], T_23)\n",
    "T_34_real = sym_to_np(T(0, linklength, 0))\n",
    "\n",
    "for theta1_current, theta2_current, theta3_current in zip(theta1, theta2, theta3):\n",
    "    T01 = T_01_real(theta1_current)\n",
    "    T12 = T_12_real(theta2_current,linklength)\n",
    "    T23 = T_23_real(theta3_current,linklength)\n",
    "    \n",
    "    draw_robot([T01, T12, T23, T_34_real])\n",
    "    \n",
    "    sc = 25\n",
    "    plt.axis([-5,5, -5, 5])\n",
    "    plt.draw()\n",
    "    plt.pause(0.01)"
   ]
  },
  {
   "cell_type": "markdown",
   "id": "31b2dadc",
   "metadata": {},
   "source": [
    "## 3."
   ]
  },
  {
   "cell_type": "code",
   "execution_count": 9,
   "id": "3b6fdaa2",
   "metadata": {},
   "outputs": [],
   "source": [
    "dtime = np.gradient(time)\n",
    "dtheta1_time = np.gradient(theta1)/dtime\n",
    "dtheta2_time = np.gradient(theta2)/dtime\n",
    "dtheta3_time = np.gradient(theta3)/dtime\n",
    "\n",
    "vel1_lamb = lambdify([s, l_1, l_2, l_3, theta_1, theta_2, theta_3], J1)\n",
    "vel2_lamb = lambdify([s, l_1, l_2, l_3, theta_1, theta_2, theta_3], J2)\n",
    "vel3_lamb = lambdify([s, l_1, l_2, l_3, theta_1, theta_2, theta_3], J3)\n",
    "pos1_lamb = lambdify([s, l_1, l_2, l_3, theta_1, theta_2, theta_3], FK1)\n",
    "pos2_lamb = lambdify([s, l_1, l_2, l_3, theta_1, theta_2, theta_3], FK2)\n",
    "pos3_lamb = lambdify([s, l_1, l_2, l_3, theta_1, theta_2, theta_3], FK3)\n",
    "\n",
    "fig = plt.figure(2,figsize = (8,8))\n",
    "for theta1_current, theta2_current, theta3_current, v1, v2, v3 in zip(theta1, theta2, theta3, dtheta1_time, dtheta2_time, dtheta3_time):\n",
    "    T01 = T_01_real(theta1_current)\n",
    "    T12 = T_12_real(theta2_current,linklength)\n",
    "    T23 = T_23_real(theta3_current,linklength)\n",
    "    \n",
    "    draw_robot([T01, T12, T23, T_34_real])\n",
    "    \n",
    "    for ss in np.linspace(0.1, 1, 10):\n",
    "        \n",
    "        vel1 = -vel1_lamb(ss*linklength, \n",
    "                         linklength,\n",
    "                         linklength,\n",
    "                         linklength,\n",
    "                         theta1_current,\n",
    "                         theta2_current,\n",
    "                         theta3_current)*Matrix([[v1], [v2], [v3]])\n",
    "        pos1 = pos1_lamb(ss*linklength, \n",
    "                         linklength,\n",
    "                         linklength,\n",
    "                         linklength,\n",
    "                         theta1_current,\n",
    "                         theta2_current,\n",
    "                         theta3_current)\n",
    "        \n",
    "        # print(pos1)\n",
    "        plt.quiver(float(pos1[0]), float(pos1[1]), float(vel1[0]), float(vel1[1]))\n",
    "        \n",
    "        vel2 = -vel2_lamb(ss*linklength, \n",
    "                         linklength,\n",
    "                         linklength,\n",
    "                         linklength,\n",
    "                         theta1_current,\n",
    "                         theta2_current,\n",
    "                         theta3_current)*Matrix([[v1], [v2], [v3]])\n",
    "        pos2 = pos2_lamb(ss*linklength, \n",
    "                         linklength,\n",
    "                         linklength,\n",
    "                         linklength,\n",
    "                         theta1_current,\n",
    "                         theta2_current,\n",
    "                         theta3_current)\n",
    "        \n",
    "        # print(pos1)\n",
    "        plt.quiver(float(pos2[0]), float(pos2[1]), float(vel2[0]), float(vel2[1]))\n",
    "        \n",
    "        vel3 = -vel3_lamb(ss*linklength, \n",
    "                         linklength,\n",
    "                         linklength,\n",
    "                         linklength,\n",
    "                         theta1_current,\n",
    "                         theta2_current,\n",
    "                         theta3_current)*Matrix([[v1], [v2], [v3]])\n",
    "        pos3 = pos3_lamb(ss*linklength, \n",
    "                         linklength,\n",
    "                         linklength,\n",
    "                         linklength,\n",
    "                         theta1_current,\n",
    "                         theta2_current,\n",
    "                         theta3_current)\n",
    "        \n",
    "        # print(pos1)\n",
    "        plt.quiver(float(pos3[0]), float(pos3[1]), float(vel3[0]), float(vel3[1]))\n",
    "    \n",
    "    sc = 25\n",
    "    plt.axis([-5,5, -5, 5])\n",
    "    plt.draw()\n",
    "    plt.pause(0.01)"
   ]
  },
  {
   "cell_type": "markdown",
   "id": "4229d104",
   "metadata": {},
   "source": [
    "## 4."
   ]
  },
  {
   "cell_type": "code",
   "execution_count": 10,
   "id": "4730a03a",
   "metadata": {},
   "outputs": [
    {
     "data": {
      "text/plain": [
       "<matplotlib.legend.Legend at 0x27b6e81e290>"
      ]
     },
     "execution_count": 10,
     "metadata": {},
     "output_type": "execute_result"
    }
   ],
   "source": [
    "JT1_lamb = lambdify([s, l_1, l_2, l_3, theta_1, theta_2, theta_3], J1.T)\n",
    "JT2_lamb = lambdify([s, l_1, l_2, l_3, theta_1, theta_2, theta_3], J2.T)\n",
    "JT3_lamb = lambdify([s, l_1, l_2, l_3, theta_1, theta_2, theta_3], J3.T)\n",
    "\n",
    "torque1 = [0]*len(time)\n",
    "torque2 = [0]*len(time)\n",
    "torque3 = [0]*len(time)\n",
    "i = 0\n",
    "\n",
    "fig = plt.figure(3, figsize = (15,15))\n",
    "for theta1_current, theta2_current, theta3_current, v1, v2, v3 in zip(theta1, theta2, theta3, dtheta1_time, dtheta2_time, dtheta3_time):\n",
    "    for ss in np.linspace(0.1, 1, 10):  \n",
    "        vel1 = -vel1_lamb(ss*linklength, \n",
    "                         linklength,\n",
    "                         linklength,\n",
    "                         linklength,\n",
    "                         theta1_current,\n",
    "                         theta2_current,\n",
    "                         theta3_current)*Matrix([[v1], [v2], [v3]])\n",
    "        JT1 = JT1_lamb(ss*linklength, \n",
    "                         linklength,\n",
    "                         linklength,\n",
    "                         linklength,\n",
    "                         theta1_current,\n",
    "                         theta2_current,\n",
    "                         theta3_current)\n",
    "        Torq1 = JT1@vel1\n",
    "        torque1[i] = Torq1[0]\n",
    "        \n",
    "        vel2 = -vel2_lamb(ss*linklength, \n",
    "                         linklength,\n",
    "                         linklength,\n",
    "                         linklength,\n",
    "                         theta1_current,\n",
    "                         theta2_current,\n",
    "                         theta3_current)*Matrix([[v1], [v2], [v3]])\n",
    "        JT2 = JT2_lamb(ss*linklength, \n",
    "                         linklength,\n",
    "                         linklength,\n",
    "                         linklength,\n",
    "                         theta1_current,\n",
    "                         theta2_current,\n",
    "                         theta3_current)\n",
    "        Torq2 = JT2@vel2\n",
    "        torque2[i] = Torq2[1]\n",
    "        \n",
    "        vel3 = -vel3_lamb(ss*linklength, \n",
    "                         linklength,\n",
    "                         linklength,\n",
    "                         linklength,\n",
    "                         theta1_current,\n",
    "                         theta2_current,\n",
    "                         theta3_current)*Matrix([[v1], [v2], [v3]])\n",
    "        JT3 = JT3_lamb(ss*linklength, \n",
    "                         linklength,\n",
    "                         linklength,\n",
    "                         linklength,\n",
    "                         theta1_current,\n",
    "                         theta2_current,\n",
    "                         theta3_current)\n",
    "        Torq3 = JT3@vel3\n",
    "        torque3[i] = Torq3[1]\n",
    "    i+=1\n",
    "        \n",
    "plt.plot(time,torque1, 'r')\n",
    "plt.plot(time,torque2, 'b')\n",
    "plt.plot(time,torque3, 'k')\n",
    "plt.xlabel(\"time\")\n",
    "plt.ylabel('torques')\n",
    "plt.legend(['torque at joint 1','torque at joint 2','torque at joint 3'])\n",
    "                                         "
   ]
  },
  {
   "cell_type": "markdown",
   "id": "788ebdad",
   "metadata": {},
   "source": [
    "## 5."
   ]
  },
  {
   "cell_type": "code",
   "execution_count": 11,
   "id": "aedeb0cb",
   "metadata": {},
   "outputs": [
    {
     "data": {
      "image/png": "[encoded data removed]",
      "text/latex": [
       "$\\displaystyle 8.12514158208442 \\cdot 10^{-16}$"
      ],
      "text/plain": [
       "8.12514158208442e-16"
      ]
     },
     "metadata": {},
     "output_type": "display_data"
    }
   ],
   "source": [
    "linklength = 1\n",
    "\n",
    "time = np.linspace(0,2*np.pi,100)\n",
    "theta1 = list(np.pi/2*np.sin(time))\n",
    "\n",
    "PreviousForce = 0\n",
    "NetForce = [0]*len(time)\n",
    "i = 0\n",
    "fig = plt.figure(4, figsize = (15,15))\n",
    "for theta1_current in theta1:\n",
    "    for ss in np.linspace(0.1, 1, 10):  \n",
    "         vel1 = -vel1_lamb(ss*linklength, \n",
    "                         linklength,\n",
    "                         0,\n",
    "                         0,\n",
    "                         theta1_current,\n",
    "                         0,\n",
    "                         0)*Matrix([[v1], [0], [0]])\n",
    "         Force1 = vel1[0]\n",
    "         NetForce[i] = Force1+PreviousForce\n",
    "         PreviousForce = vel1[0]\n",
    "    i += 1\n",
    "plt.plot(time,NetForce, 'r')\n",
    "plt.xlabel('time')\n",
    "plt.ylabel('NetForce')\n",
    "display(NetForce[-1])"
   ]
  },
  {
   "cell_type": "markdown",
   "id": "cbf069fa",
   "metadata": {},
   "source": [
    "Very small, very close to 0"
   ]
  },
  {
   "cell_type": "markdown",
   "id": "fd785cfd",
   "metadata": {},
   "source": [
    "## 2 A model of standing"
   ]
  },
  {
   "cell_type": "code",
   "execution_count": 12,
   "id": "41987fe3",
   "metadata": {},
   "outputs": [],
   "source": [
    "(t, \n",
    " theta_1, \n",
    " theta_2, \n",
    " theta_3, \n",
    " m_1, \n",
    " m_2, \n",
    " m_3, \n",
    " L,\n",
    " g) = symbols(\"\"\"t, \n",
    "                 theta_1 \n",
    "                 theta_2 \n",
    "                 theta_3 \n",
    "                 m_1 \n",
    "                 m_2 \n",
    "                 m_3\n",
    "                 L\n",
    "                 g\"\"\" , real = True)\n",
    "\n",
    "\n",
    "theta_1 = Function('theta_1', real=True)(t)\n",
    "theta_2 = Function('theta_2', real=True)(t)\n",
    "theta_3 = Function('theta_3', real=True)(t)"
   ]
  },
  {
   "cell_type": "code",
   "execution_count": 13,
   "id": "a7a51dbf",
   "metadata": {},
   "outputs": [],
   "source": [
    "def T(theta, x, y):\n",
    "    \"\"\"\n",
    "    Function to return an arbitrary transformation matrix \n",
    "    This is for sympy symbolic calculation\n",
    "    \"\"\"\n",
    "    return Matrix([[cos(theta), -sin(theta), x], \n",
    "                   [sin(theta), cos(theta), y],\n",
    "                   [0, 0, 1]])\n",
    "def sym_to_np(T):\n",
    "    return np.array(T).astype(np.float64)"
   ]
  },
  {
   "cell_type": "code",
   "execution_count": 14,
   "id": "d131ec1c",
   "metadata": {},
   "outputs": [],
   "source": [
    "T_01 = T(theta_1, 0, 0)\n",
    "T_12 = T(theta_2, 0, L)\n",
    "T_23 = T(theta_3, 0, L)"
   ]
  },
  {
   "cell_type": "markdown",
   "id": "0b6d7ed2",
   "metadata": {},
   "source": [
    "## 1."
   ]
  },
  {
   "cell_type": "code",
   "execution_count": 15,
   "id": "d7ed77d5",
   "metadata": {},
   "outputs": [
    {
     "data": {
      "text/latex": [
       "$\\displaystyle \\left[\\begin{matrix}L \\cos{\\left(\\theta_{1}{\\left(t \\right)} \\right)}\\\\L \\sin{\\left(\\theta_{1}{\\left(t \\right)} \\right)}\\end{matrix}\\right]$"
      ],
      "text/plain": [
       "⎡L⋅cos(θ₁(t))⎤\n",
       "⎢            ⎥\n",
       "⎣L⋅sin(θ₁(t))⎦"
      ]
     },
     "metadata": {},
     "output_type": "display_data"
    },
    {
     "data": {
      "text/latex": [
       "$\\displaystyle \\left[\\begin{matrix}L \\left(- \\sin{\\left(\\theta_{1}{\\left(t \\right)} \\right)} + \\cos{\\left(\\theta_{1}{\\left(t \\right)} + \\theta_{2}{\\left(t \\right)} \\right)}\\right)\\\\L \\left(\\sin{\\left(\\theta_{1}{\\left(t \\right)} + \\theta_{2}{\\left(t \\right)} \\right)} + \\cos{\\left(\\theta_{1}{\\left(t \\right)} \\right)}\\right)\\end{matrix}\\right]$"
      ],
      "text/plain": [
       "⎡L⋅(-sin(θ₁(t)) + cos(θ₁(t) + θ₂(t)))⎤\n",
       "⎢                                    ⎥\n",
       "⎣L⋅(sin(θ₁(t) + θ₂(t)) + cos(θ₁(t))) ⎦"
      ]
     },
     "metadata": {},
     "output_type": "display_data"
    },
    {
     "data": {
      "text/latex": [
       "$\\displaystyle \\left[\\begin{matrix}L \\left(- \\sin{\\left(\\theta_{1}{\\left(t \\right)} + \\theta_{2}{\\left(t \\right)} \\right)} - \\sin{\\left(\\theta_{1}{\\left(t \\right)} \\right)} + \\cos{\\left(\\theta_{1}{\\left(t \\right)} + \\theta_{2}{\\left(t \\right)} + \\theta_{3}{\\left(t \\right)} \\right)}\\right)\\\\L \\left(\\sin{\\left(\\theta_{1}{\\left(t \\right)} + \\theta_{2}{\\left(t \\right)} + \\theta_{3}{\\left(t \\right)} \\right)} + \\cos{\\left(\\theta_{1}{\\left(t \\right)} + \\theta_{2}{\\left(t \\right)} \\right)} + \\cos{\\left(\\theta_{1}{\\left(t \\right)} \\right)}\\right)\\end{matrix}\\right]$"
      ],
      "text/plain": [
       "⎡L⋅(-sin(θ₁(t) + θ₂(t)) - sin(θ₁(t)) + cos(θ₁(t) + θ₂(t) + θ₃(t)))⎤\n",
       "⎢                                                                 ⎥\n",
       "⎣L⋅(sin(θ₁(t) + θ₂(t) + θ₃(t)) + cos(θ₁(t) + θ₂(t)) + cos(θ₁(t))) ⎦"
      ]
     },
     "metadata": {},
     "output_type": "display_data"
    }
   ],
   "source": [
    "FK1 = (T_01 * Matrix([[L], [0], [1]]))[:-1,0]\n",
    "FK2 = simplify((T_01 * T_12 * Matrix([[L], [0], [1]]))[:-1,0])\n",
    "FK3 = simplify((T_01 * T_12 * T_23 * Matrix([[L], [0], [1]]))[:-1,0])\n",
    "display(FK1)\n",
    "display(FK2)\n",
    "display(FK3)"
   ]
  },
  {
   "cell_type": "markdown",
   "id": "3f85a26b",
   "metadata": {},
   "source": [
    "## 2."
   ]
  },
  {
   "cell_type": "code",
   "execution_count": 16,
   "id": "5f57350d",
   "metadata": {},
   "outputs": [
    {
     "data": {
      "text/latex": [
       "$\\displaystyle \\left[\\begin{matrix}- L \\sin{\\left(\\theta_{1}{\\left(t \\right)} \\right)} & 0 & 0\\\\L \\cos{\\left(\\theta_{1}{\\left(t \\right)} \\right)} & 0 & 0\\end{matrix}\\right]$"
      ],
      "text/plain": [
       "⎡-L⋅sin(θ₁(t))  0  0⎤\n",
       "⎢                   ⎥\n",
       "⎣L⋅cos(θ₁(t))   0  0⎦"
      ]
     },
     "metadata": {},
     "output_type": "display_data"
    },
    {
     "data": {
      "text/latex": [
       "$\\displaystyle \\left[\\begin{matrix}- L \\left(\\sin{\\left(\\theta_{1}{\\left(t \\right)} + \\theta_{2}{\\left(t \\right)} \\right)} + \\cos{\\left(\\theta_{1}{\\left(t \\right)} \\right)}\\right) & - L \\sin{\\left(\\theta_{1}{\\left(t \\right)} + \\theta_{2}{\\left(t \\right)} \\right)} & 0\\\\L \\left(- \\sin{\\left(\\theta_{1}{\\left(t \\right)} \\right)} + \\cos{\\left(\\theta_{1}{\\left(t \\right)} + \\theta_{2}{\\left(t \\right)} \\right)}\\right) & L \\cos{\\left(\\theta_{1}{\\left(t \\right)} + \\theta_{2}{\\left(t \\right)} \\right)} & 0\\end{matrix}\\right]$"
      ],
      "text/plain": [
       "⎡-L⋅(sin(θ₁(t) + θ₂(t)) + cos(θ₁(t)))  -L⋅sin(θ₁(t) + θ₂(t))  0⎤\n",
       "⎢                                                              ⎥\n",
       "⎣L⋅(-sin(θ₁(t)) + cos(θ₁(t) + θ₂(t)))  L⋅cos(θ₁(t) + θ₂(t))   0⎦"
      ]
     },
     "metadata": {},
     "output_type": "display_data"
    },
    {
     "data": {
      "text/latex": [
       "$\\displaystyle \\left[\\begin{matrix}- L \\left(\\sin{\\left(\\theta_{1}{\\left(t \\right)} + \\theta_{2}{\\left(t \\right)} + \\theta_{3}{\\left(t \\right)} \\right)} + \\cos{\\left(\\theta_{1}{\\left(t \\right)} + \\theta_{2}{\\left(t \\right)} \\right)} + \\cos{\\left(\\theta_{1}{\\left(t \\right)} \\right)}\\right) & - L \\left(\\sin{\\left(\\theta_{1}{\\left(t \\right)} + \\theta_{2}{\\left(t \\right)} + \\theta_{3}{\\left(t \\right)} \\right)} + \\cos{\\left(\\theta_{1}{\\left(t \\right)} + \\theta_{2}{\\left(t \\right)} \\right)}\\right) & - L \\sin{\\left(\\theta_{1}{\\left(t \\right)} + \\theta_{2}{\\left(t \\right)} + \\theta_{3}{\\left(t \\right)} \\right)}\\\\L \\left(- \\sin{\\left(\\theta_{1}{\\left(t \\right)} + \\theta_{2}{\\left(t \\right)} \\right)} - \\sin{\\left(\\theta_{1}{\\left(t \\right)} \\right)} + \\cos{\\left(\\theta_{1}{\\left(t \\right)} + \\theta_{2}{\\left(t \\right)} + \\theta_{3}{\\left(t \\right)} \\right)}\\right) & L \\left(- \\sin{\\left(\\theta_{1}{\\left(t \\right)} + \\theta_{2}{\\left(t \\right)} \\right)} + \\cos{\\left(\\theta_{1}{\\left(t \\right)} + \\theta_{2}{\\left(t \\right)} + \\theta_{3}{\\left(t \\right)} \\right)}\\right) & L \\cos{\\left(\\theta_{1}{\\left(t \\right)} + \\theta_{2}{\\left(t \\right)} + \\theta_{3}{\\left(t \\right)} \\right)}\\end{matrix}\\right]$"
      ],
      "text/plain": [
       "⎡-L⋅(sin(θ₁(t) + θ₂(t) + θ₃(t)) + cos(θ₁(t) + θ₂(t)) + cos(θ₁(t)))  -L⋅(sin(θ₁\n",
       "⎢                                                                             \n",
       "⎣L⋅(-sin(θ₁(t) + θ₂(t)) - sin(θ₁(t)) + cos(θ₁(t) + θ₂(t) + θ₃(t)))  L⋅(-sin(θ₁\n",
       "\n",
       "(t) + θ₂(t) + θ₃(t)) + cos(θ₁(t) + θ₂(t)))  -L⋅sin(θ₁(t) + θ₂(t) + θ₃(t))⎤\n",
       "                                                                         ⎥\n",
       "(t) + θ₂(t)) + cos(θ₁(t) + θ₂(t) + θ₃(t)))  L⋅cos(θ₁(t) + θ₂(t) + θ₃(t)) ⎦"
      ]
     },
     "metadata": {},
     "output_type": "display_data"
    }
   ],
   "source": [
    "J1 = FK1.jacobian([theta_1, theta_2, theta_3])\n",
    "J2 = simplify(FK2.jacobian([theta_1, theta_2, theta_3]))\n",
    "J3 = simplify(FK3.jacobian([theta_1, theta_2, theta_3]))\n",
    "display(J1)\n",
    "display(J2)\n",
    "display(J3)"
   ]
  },
  {
   "cell_type": "markdown",
   "id": "61ceb531",
   "metadata": {},
   "source": [
    "## 3."
   ]
  },
  {
   "cell_type": "code",
   "execution_count": 17,
   "id": "cd430ea3",
   "metadata": {},
   "outputs": [
    {
     "data": {
      "text/latex": [
       "$\\displaystyle \\left[\\begin{matrix}- L \\sin{\\left(\\theta_{1}{\\left(t \\right)} \\right)} & 0 & 0\\\\L \\cos{\\left(\\theta_{1}{\\left(t \\right)} \\right)} & 0 & 0\\\\- L \\left(\\sin{\\left(\\theta_{1}{\\left(t \\right)} + \\theta_{2}{\\left(t \\right)} \\right)} + \\cos{\\left(\\theta_{1}{\\left(t \\right)} \\right)}\\right) & - L \\sin{\\left(\\theta_{1}{\\left(t \\right)} + \\theta_{2}{\\left(t \\right)} \\right)} & 0\\\\L \\left(- \\sin{\\left(\\theta_{1}{\\left(t \\right)} \\right)} + \\cos{\\left(\\theta_{1}{\\left(t \\right)} + \\theta_{2}{\\left(t \\right)} \\right)}\\right) & L \\cos{\\left(\\theta_{1}{\\left(t \\right)} + \\theta_{2}{\\left(t \\right)} \\right)} & 0\\\\- L \\left(\\sin{\\left(\\theta_{1}{\\left(t \\right)} + \\theta_{2}{\\left(t \\right)} + \\theta_{3}{\\left(t \\right)} \\right)} + \\cos{\\left(\\theta_{1}{\\left(t \\right)} + \\theta_{2}{\\left(t \\right)} \\right)} + \\cos{\\left(\\theta_{1}{\\left(t \\right)} \\right)}\\right) & - L \\left(\\sin{\\left(\\theta_{1}{\\left(t \\right)} + \\theta_{2}{\\left(t \\right)} + \\theta_{3}{\\left(t \\right)} \\right)} + \\cos{\\left(\\theta_{1}{\\left(t \\right)} + \\theta_{2}{\\left(t \\right)} \\right)}\\right) & - L \\sin{\\left(\\theta_{1}{\\left(t \\right)} + \\theta_{2}{\\left(t \\right)} + \\theta_{3}{\\left(t \\right)} \\right)}\\\\L \\left(- \\sin{\\left(\\theta_{1}{\\left(t \\right)} + \\theta_{2}{\\left(t \\right)} \\right)} - \\sin{\\left(\\theta_{1}{\\left(t \\right)} \\right)} + \\cos{\\left(\\theta_{1}{\\left(t \\right)} + \\theta_{2}{\\left(t \\right)} + \\theta_{3}{\\left(t \\right)} \\right)}\\right) & L \\left(- \\sin{\\left(\\theta_{1}{\\left(t \\right)} + \\theta_{2}{\\left(t \\right)} \\right)} + \\cos{\\left(\\theta_{1}{\\left(t \\right)} + \\theta_{2}{\\left(t \\right)} + \\theta_{3}{\\left(t \\right)} \\right)}\\right) & L \\cos{\\left(\\theta_{1}{\\left(t \\right)} + \\theta_{2}{\\left(t \\right)} + \\theta_{3}{\\left(t \\right)} \\right)}\\end{matrix}\\right]$"
      ],
      "text/plain": [
       "⎡                          -L⋅sin(θ₁(t))                                      \n",
       "⎢                                                                             \n",
       "⎢                          L⋅cos(θ₁(t))                                       \n",
       "⎢                                                                             \n",
       "⎢              -L⋅(sin(θ₁(t) + θ₂(t)) + cos(θ₁(t)))                           \n",
       "⎢                                                                             \n",
       "⎢              L⋅(-sin(θ₁(t)) + cos(θ₁(t) + θ₂(t)))                           \n",
       "⎢                                                                             \n",
       "⎢-L⋅(sin(θ₁(t) + θ₂(t) + θ₃(t)) + cos(θ₁(t) + θ₂(t)) + cos(θ₁(t)))  -L⋅(sin(θ₁\n",
       "⎢                                                                             \n",
       "⎣L⋅(-sin(θ₁(t) + θ₂(t)) - sin(θ₁(t)) + cos(θ₁(t) + θ₂(t) + θ₃(t)))  L⋅(-sin(θ₁\n",
       "\n",
       "               0                                          0              ⎤\n",
       "                                                                         ⎥\n",
       "               0                                          0              ⎥\n",
       "                                                                         ⎥\n",
       "     -L⋅sin(θ₁(t) + θ₂(t))                                0              ⎥\n",
       "                                                                         ⎥\n",
       "      L⋅cos(θ₁(t) + θ₂(t))                                0              ⎥\n",
       "                                                                         ⎥\n",
       "(t) + θ₂(t) + θ₃(t)) + cos(θ₁(t) + θ₂(t)))  -L⋅sin(θ₁(t) + θ₂(t) + θ₃(t))⎥\n",
       "                                                                         ⎥\n",
       "(t) + θ₂(t)) + cos(θ₁(t) + θ₂(t) + θ₃(t)))  L⋅cos(θ₁(t) + θ₂(t) + θ₃(t)) ⎦"
      ]
     },
     "execution_count": 17,
     "metadata": {},
     "output_type": "execute_result"
    }
   ],
   "source": [
    "J = Matrix.vstack(J1,J2,J3)\n",
    "J"
   ]
  },
  {
   "cell_type": "markdown",
   "id": "072298c4",
   "metadata": {},
   "source": [
    "## 4."
   ]
  },
  {
   "cell_type": "code",
   "execution_count": 18,
   "id": "74a5b678",
   "metadata": {},
   "outputs": [
    {
     "data": {
      "text/latex": [
       "$\\displaystyle \\left[\\begin{matrix}L^{2} m_{1} \\sin^{2}{\\left(\\theta_{1}{\\left(t \\right)} \\right)} + L^{2} m_{1} \\cos^{2}{\\left(\\theta_{1}{\\left(t \\right)} \\right)} + L^{2} m_{2} \\left(\\sin{\\left(\\theta_{1}{\\left(t \\right)} + \\theta_{2}{\\left(t \\right)} \\right)} + \\cos{\\left(\\theta_{1}{\\left(t \\right)} \\right)}\\right)^{2} + L^{2} m_{2} \\left(- \\sin{\\left(\\theta_{1}{\\left(t \\right)} \\right)} + \\cos{\\left(\\theta_{1}{\\left(t \\right)} + \\theta_{2}{\\left(t \\right)} \\right)}\\right)^{2} + L^{2} m_{3} \\left(- \\sin{\\left(\\theta_{1}{\\left(t \\right)} + \\theta_{2}{\\left(t \\right)} \\right)} - \\sin{\\left(\\theta_{1}{\\left(t \\right)} \\right)} + \\cos{\\left(\\theta_{1}{\\left(t \\right)} + \\theta_{2}{\\left(t \\right)} + \\theta_{3}{\\left(t \\right)} \\right)}\\right)^{2} + L^{2} m_{3} \\left(\\sin{\\left(\\theta_{1}{\\left(t \\right)} + \\theta_{2}{\\left(t \\right)} + \\theta_{3}{\\left(t \\right)} \\right)} + \\cos{\\left(\\theta_{1}{\\left(t \\right)} + \\theta_{2}{\\left(t \\right)} \\right)} + \\cos{\\left(\\theta_{1}{\\left(t \\right)} \\right)}\\right)^{2} & L^{2} m_{2} \\left(\\sin{\\left(\\theta_{1}{\\left(t \\right)} + \\theta_{2}{\\left(t \\right)} \\right)} + \\cos{\\left(\\theta_{1}{\\left(t \\right)} \\right)}\\right) \\sin{\\left(\\theta_{1}{\\left(t \\right)} + \\theta_{2}{\\left(t \\right)} \\right)} + L^{2} m_{2} \\left(- \\sin{\\left(\\theta_{1}{\\left(t \\right)} \\right)} + \\cos{\\left(\\theta_{1}{\\left(t \\right)} + \\theta_{2}{\\left(t \\right)} \\right)}\\right) \\cos{\\left(\\theta_{1}{\\left(t \\right)} + \\theta_{2}{\\left(t \\right)} \\right)} + L^{2} m_{3} \\left(- \\sin{\\left(\\theta_{1}{\\left(t \\right)} + \\theta_{2}{\\left(t \\right)} \\right)} + \\cos{\\left(\\theta_{1}{\\left(t \\right)} + \\theta_{2}{\\left(t \\right)} + \\theta_{3}{\\left(t \\right)} \\right)}\\right) \\left(- \\sin{\\left(\\theta_{1}{\\left(t \\right)} + \\theta_{2}{\\left(t \\right)} \\right)} - \\sin{\\left(\\theta_{1}{\\left(t \\right)} \\right)} + \\cos{\\left(\\theta_{1}{\\left(t \\right)} + \\theta_{2}{\\left(t \\right)} + \\theta_{3}{\\left(t \\right)} \\right)}\\right) + L^{2} m_{3} \\left(\\sin{\\left(\\theta_{1}{\\left(t \\right)} + \\theta_{2}{\\left(t \\right)} + \\theta_{3}{\\left(t \\right)} \\right)} + \\cos{\\left(\\theta_{1}{\\left(t \\right)} + \\theta_{2}{\\left(t \\right)} \\right)}\\right) \\left(\\sin{\\left(\\theta_{1}{\\left(t \\right)} + \\theta_{2}{\\left(t \\right)} + \\theta_{3}{\\left(t \\right)} \\right)} + \\cos{\\left(\\theta_{1}{\\left(t \\right)} + \\theta_{2}{\\left(t \\right)} \\right)} + \\cos{\\left(\\theta_{1}{\\left(t \\right)} \\right)}\\right) & L^{2} m_{3} \\left(- \\sin{\\left(\\theta_{1}{\\left(t \\right)} + \\theta_{2}{\\left(t \\right)} \\right)} - \\sin{\\left(\\theta_{1}{\\left(t \\right)} \\right)} + \\cos{\\left(\\theta_{1}{\\left(t \\right)} + \\theta_{2}{\\left(t \\right)} + \\theta_{3}{\\left(t \\right)} \\right)}\\right) \\cos{\\left(\\theta_{1}{\\left(t \\right)} + \\theta_{2}{\\left(t \\right)} + \\theta_{3}{\\left(t \\right)} \\right)} + L^{2} m_{3} \\left(\\sin{\\left(\\theta_{1}{\\left(t \\right)} + \\theta_{2}{\\left(t \\right)} + \\theta_{3}{\\left(t \\right)} \\right)} + \\cos{\\left(\\theta_{1}{\\left(t \\right)} + \\theta_{2}{\\left(t \\right)} \\right)} + \\cos{\\left(\\theta_{1}{\\left(t \\right)} \\right)}\\right) \\sin{\\left(\\theta_{1}{\\left(t \\right)} + \\theta_{2}{\\left(t \\right)} + \\theta_{3}{\\left(t \\right)} \\right)}\\\\L^{2} m_{2} \\left(\\sin{\\left(\\theta_{1}{\\left(t \\right)} + \\theta_{2}{\\left(t \\right)} \\right)} + \\cos{\\left(\\theta_{1}{\\left(t \\right)} \\right)}\\right) \\sin{\\left(\\theta_{1}{\\left(t \\right)} + \\theta_{2}{\\left(t \\right)} \\right)} + L^{2} m_{2} \\left(- \\sin{\\left(\\theta_{1}{\\left(t \\right)} \\right)} + \\cos{\\left(\\theta_{1}{\\left(t \\right)} + \\theta_{2}{\\left(t \\right)} \\right)}\\right) \\cos{\\left(\\theta_{1}{\\left(t \\right)} + \\theta_{2}{\\left(t \\right)} \\right)} + L^{2} m_{3} \\left(- \\sin{\\left(\\theta_{1}{\\left(t \\right)} + \\theta_{2}{\\left(t \\right)} \\right)} + \\cos{\\left(\\theta_{1}{\\left(t \\right)} + \\theta_{2}{\\left(t \\right)} + \\theta_{3}{\\left(t \\right)} \\right)}\\right) \\left(- \\sin{\\left(\\theta_{1}{\\left(t \\right)} + \\theta_{2}{\\left(t \\right)} \\right)} - \\sin{\\left(\\theta_{1}{\\left(t \\right)} \\right)} + \\cos{\\left(\\theta_{1}{\\left(t \\right)} + \\theta_{2}{\\left(t \\right)} + \\theta_{3}{\\left(t \\right)} \\right)}\\right) + L^{2} m_{3} \\left(\\sin{\\left(\\theta_{1}{\\left(t \\right)} + \\theta_{2}{\\left(t \\right)} + \\theta_{3}{\\left(t \\right)} \\right)} + \\cos{\\left(\\theta_{1}{\\left(t \\right)} + \\theta_{2}{\\left(t \\right)} \\right)}\\right) \\left(\\sin{\\left(\\theta_{1}{\\left(t \\right)} + \\theta_{2}{\\left(t \\right)} + \\theta_{3}{\\left(t \\right)} \\right)} + \\cos{\\left(\\theta_{1}{\\left(t \\right)} + \\theta_{2}{\\left(t \\right)} \\right)} + \\cos{\\left(\\theta_{1}{\\left(t \\right)} \\right)}\\right) & L^{2} m_{2} \\sin^{2}{\\left(\\theta_{1}{\\left(t \\right)} + \\theta_{2}{\\left(t \\right)} \\right)} + L^{2} m_{2} \\cos^{2}{\\left(\\theta_{1}{\\left(t \\right)} + \\theta_{2}{\\left(t \\right)} \\right)} + L^{2} m_{3} \\left(- \\sin{\\left(\\theta_{1}{\\left(t \\right)} + \\theta_{2}{\\left(t \\right)} \\right)} + \\cos{\\left(\\theta_{1}{\\left(t \\right)} + \\theta_{2}{\\left(t \\right)} + \\theta_{3}{\\left(t \\right)} \\right)}\\right)^{2} + L^{2} m_{3} \\left(\\sin{\\left(\\theta_{1}{\\left(t \\right)} + \\theta_{2}{\\left(t \\right)} + \\theta_{3}{\\left(t \\right)} \\right)} + \\cos{\\left(\\theta_{1}{\\left(t \\right)} + \\theta_{2}{\\left(t \\right)} \\right)}\\right)^{2} & L^{2} m_{3} \\left(- \\sin{\\left(\\theta_{1}{\\left(t \\right)} + \\theta_{2}{\\left(t \\right)} \\right)} + \\cos{\\left(\\theta_{1}{\\left(t \\right)} + \\theta_{2}{\\left(t \\right)} + \\theta_{3}{\\left(t \\right)} \\right)}\\right) \\cos{\\left(\\theta_{1}{\\left(t \\right)} + \\theta_{2}{\\left(t \\right)} + \\theta_{3}{\\left(t \\right)} \\right)} + L^{2} m_{3} \\left(\\sin{\\left(\\theta_{1}{\\left(t \\right)} + \\theta_{2}{\\left(t \\right)} + \\theta_{3}{\\left(t \\right)} \\right)} + \\cos{\\left(\\theta_{1}{\\left(t \\right)} + \\theta_{2}{\\left(t \\right)} \\right)}\\right) \\sin{\\left(\\theta_{1}{\\left(t \\right)} + \\theta_{2}{\\left(t \\right)} + \\theta_{3}{\\left(t \\right)} \\right)}\\\\L^{2} m_{3} \\left(- \\sin{\\left(\\theta_{1}{\\left(t \\right)} + \\theta_{2}{\\left(t \\right)} \\right)} - \\sin{\\left(\\theta_{1}{\\left(t \\right)} \\right)} + \\cos{\\left(\\theta_{1}{\\left(t \\right)} + \\theta_{2}{\\left(t \\right)} + \\theta_{3}{\\left(t \\right)} \\right)}\\right) \\cos{\\left(\\theta_{1}{\\left(t \\right)} + \\theta_{2}{\\left(t \\right)} + \\theta_{3}{\\left(t \\right)} \\right)} + L^{2} m_{3} \\left(\\sin{\\left(\\theta_{1}{\\left(t \\right)} + \\theta_{2}{\\left(t \\right)} + \\theta_{3}{\\left(t \\right)} \\right)} + \\cos{\\left(\\theta_{1}{\\left(t \\right)} + \\theta_{2}{\\left(t \\right)} \\right)} + \\cos{\\left(\\theta_{1}{\\left(t \\right)} \\right)}\\right) \\sin{\\left(\\theta_{1}{\\left(t \\right)} + \\theta_{2}{\\left(t \\right)} + \\theta_{3}{\\left(t \\right)} \\right)} & L^{2} m_{3} \\left(- \\sin{\\left(\\theta_{1}{\\left(t \\right)} + \\theta_{2}{\\left(t \\right)} \\right)} + \\cos{\\left(\\theta_{1}{\\left(t \\right)} + \\theta_{2}{\\left(t \\right)} + \\theta_{3}{\\left(t \\right)} \\right)}\\right) \\cos{\\left(\\theta_{1}{\\left(t \\right)} + \\theta_{2}{\\left(t \\right)} + \\theta_{3}{\\left(t \\right)} \\right)} + L^{2} m_{3} \\left(\\sin{\\left(\\theta_{1}{\\left(t \\right)} + \\theta_{2}{\\left(t \\right)} + \\theta_{3}{\\left(t \\right)} \\right)} + \\cos{\\left(\\theta_{1}{\\left(t \\right)} + \\theta_{2}{\\left(t \\right)} \\right)}\\right) \\sin{\\left(\\theta_{1}{\\left(t \\right)} + \\theta_{2}{\\left(t \\right)} + \\theta_{3}{\\left(t \\right)} \\right)} & L^{2} m_{3} \\sin^{2}{\\left(\\theta_{1}{\\left(t \\right)} + \\theta_{2}{\\left(t \\right)} + \\theta_{3}{\\left(t \\right)} \\right)} + L^{2} m_{3} \\cos^{2}{\\left(\\theta_{1}{\\left(t \\right)} + \\theta_{2}{\\left(t \\right)} + \\theta_{3}{\\left(t \\right)} \\right)}\\end{matrix}\\right]$"
      ],
      "text/plain": [
       "⎡                                                2       2           2       2\n",
       "⎢                                               L ⋅m₁⋅sin (θ₁(t)) + L ⋅m₁⋅cos \n",
       "⎢                                                                             \n",
       "⎢ 2                                                            2              \n",
       "⎢L ⋅m₂⋅(sin(θ₁(t) + θ₂(t)) + cos(θ₁(t)))⋅sin(θ₁(t) + θ₂(t)) + L ⋅m₂⋅(-sin(θ₁(t\n",
       "⎢                                                                             \n",
       "⎢                                                                             \n",
       "⎣                                                                             \n",
       "\n",
       "           2                                     2    2                       \n",
       "(θ₁(t)) + L ⋅m₂⋅(sin(θ₁(t) + θ₂(t)) + cos(θ₁(t)))  + L ⋅m₂⋅(-sin(θ₁(t)) + cos(\n",
       "                                                                              \n",
       "                                               2                              \n",
       ")) + cos(θ₁(t) + θ₂(t)))⋅cos(θ₁(t) + θ₂(t)) + L ⋅m₃⋅(-sin(θ₁(t) + θ₂(t)) + cos\n",
       "                                                                              \n",
       "         2                                                                    \n",
       "        L ⋅m₃⋅(-sin(θ₁(t) + θ₂(t)) - sin(θ₁(t)) + cos(θ₁(t) + θ₂(t) + θ₃(t)))⋅\n",
       "\n",
       "               2    2                                                         \n",
       "θ₁(t) + θ₂(t)))  + L ⋅m₃⋅(-sin(θ₁(t) + θ₂(t)) - sin(θ₁(t)) + cos(θ₁(t) + θ₂(t)\n",
       "                                                                              \n",
       "                                                                              \n",
       "(θ₁(t) + θ₂(t) + θ₃(t)))⋅(-sin(θ₁(t) + θ₂(t)) - sin(θ₁(t)) + cos(θ₁(t) + θ₂(t)\n",
       "                                                                              \n",
       "                              2                                               \n",
       "cos(θ₁(t) + θ₂(t) + θ₃(t)) + L ⋅m₃⋅(sin(θ₁(t) + θ₂(t) + θ₃(t)) + cos(θ₁(t) + θ\n",
       "\n",
       "          2    2                                                              \n",
       " + θ₃(t)))  + L ⋅m₃⋅(sin(θ₁(t) + θ₂(t) + θ₃(t)) + cos(θ₁(t) + θ₂(t)) + cos(θ₁(\n",
       "                                                                              \n",
       "              2                                                               \n",
       " + θ₃(t))) + L ⋅m₃⋅(sin(θ₁(t) + θ₂(t) + θ₃(t)) + cos(θ₁(t) + θ₂(t)))⋅(sin(θ₁(t\n",
       "                                                                              \n",
       "                                                                              \n",
       "₂(t)) + cos(θ₁(t)))⋅sin(θ₁(t) + θ₂(t) + θ₃(t))                                \n",
       "\n",
       "    2                                                   2                     \n",
       "t)))                                                   L ⋅m₂⋅(sin(θ₁(t) + θ₂(t\n",
       "                                                                              \n",
       "                                                                              \n",
       ") + θ₂(t) + θ₃(t)) + cos(θ₁(t) + θ₂(t)) + cos(θ₁(t)))                         \n",
       "                                                                              \n",
       "                                                                              \n",
       "                                                                              \n",
       "\n",
       "                                       2                                      \n",
       ")) + cos(θ₁(t)))⋅sin(θ₁(t) + θ₂(t)) + L ⋅m₂⋅(-sin(θ₁(t)) + cos(θ₁(t) + θ₂(t)))\n",
       "                                                                              \n",
       "                                                                          2   \n",
       "                                                                         L ⋅m₂\n",
       "                                                                              \n",
       "                                                                            2 \n",
       "                                                                           L ⋅\n",
       "\n",
       "                       2                                                      \n",
       "⋅cos(θ₁(t) + θ₂(t)) + L ⋅m₃⋅(-sin(θ₁(t) + θ₂(t)) + cos(θ₁(t) + θ₂(t) + θ₃(t)))\n",
       "                                                                              \n",
       "    2                   2       2                   2                         \n",
       "⋅sin (θ₁(t) + θ₂(t)) + L ⋅m₂⋅cos (θ₁(t) + θ₂(t)) + L ⋅m₃⋅(-sin(θ₁(t) + θ₂(t)) \n",
       "                                                                              \n",
       "                                                                              \n",
       "m₃⋅(-sin(θ₁(t) + θ₂(t)) + cos(θ₁(t) + θ₂(t) + θ₃(t)))⋅cos(θ₁(t) + θ₂(t) + θ₃(t\n",
       "\n",
       "                                                                    2         \n",
       "⋅(-sin(θ₁(t) + θ₂(t)) - sin(θ₁(t)) + cos(θ₁(t) + θ₂(t) + θ₃(t))) + L ⋅m₃⋅(sin(\n",
       "                                                                              \n",
       "                             2    2                                           \n",
       "+ cos(θ₁(t) + θ₂(t) + θ₃(t)))  + L ⋅m₃⋅(sin(θ₁(t) + θ₂(t) + θ₃(t)) + cos(θ₁(t)\n",
       "                                                                              \n",
       "      2                                                                       \n",
       ")) + L ⋅m₃⋅(sin(θ₁(t) + θ₂(t) + θ₃(t)) + cos(θ₁(t) + θ₂(t)))⋅sin(θ₁(t) + θ₂(t)\n",
       "\n",
       "                                                                              \n",
       "θ₁(t) + θ₂(t) + θ₃(t)) + cos(θ₁(t) + θ₂(t)))⋅(sin(θ₁(t) + θ₂(t) + θ₃(t)) + cos\n",
       "                                                                              \n",
       "          2                                                                   \n",
       " + θ₂(t)))                                                                    \n",
       "                                                                              \n",
       "                                                                              \n",
       " + θ₃(t))                                                                     \n",
       "\n",
       "                                2                                             \n",
       "(θ₁(t) + θ₂(t)) + cos(θ₁(t)))  L ⋅m₃⋅(-sin(θ₁(t) + θ₂(t)) - sin(θ₁(t)) + cos(θ\n",
       "                                                                              \n",
       "                                             2                                \n",
       "                                            L ⋅m₃⋅(-sin(θ₁(t) + θ₂(t)) + cos(θ\n",
       "                                                                              \n",
       "                                                                              \n",
       "                                                                              \n",
       "\n",
       "                                                     2                        \n",
       "₁(t) + θ₂(t) + θ₃(t)))⋅cos(θ₁(t) + θ₂(t) + θ₃(t)) + L ⋅m₃⋅(sin(θ₁(t) + θ₂(t) +\n",
       "                                                                              \n",
       "                                                     2                        \n",
       "₁(t) + θ₂(t) + θ₃(t)))⋅cos(θ₁(t) + θ₂(t) + θ₃(t)) + L ⋅m₃⋅(sin(θ₁(t) + θ₂(t) +\n",
       "                                                                              \n",
       "                2       2                           2       2                 \n",
       "               L ⋅m₃⋅sin (θ₁(t) + θ₂(t) + θ₃(t)) + L ⋅m₃⋅cos (θ₁(t) + θ₂(t) + \n",
       "\n",
       "                                                                     ⎤\n",
       " θ₃(t)) + cos(θ₁(t) + θ₂(t)) + cos(θ₁(t)))⋅sin(θ₁(t) + θ₂(t) + θ₃(t))⎥\n",
       "                                                                     ⎥\n",
       "                                                                     ⎥\n",
       " θ₃(t)) + cos(θ₁(t) + θ₂(t)))⋅sin(θ₁(t) + θ₂(t) + θ₃(t))             ⎥\n",
       "                                                                     ⎥\n",
       "                                                                     ⎥\n",
       "θ₃(t))                                                               ⎦"
      ]
     },
     "execution_count": 18,
     "metadata": {},
     "output_type": "execute_result"
    }
   ],
   "source": [
    "m = diag(m_1,m_1,m_2,m_2,m_3,m_3)\n",
    "M = J.T@m@J\n",
    "M"
   ]
  },
  {
   "cell_type": "markdown",
   "id": "70ce5e55",
   "metadata": {},
   "source": [
    "## 5."
   ]
  },
  {
   "cell_type": "code",
   "execution_count": 19,
   "id": "82214d28",
   "metadata": {},
   "outputs": [
    {
     "data": {
      "text/plain": [
       "array([[1.0*L**2*m_1 + 2.0*L**2*m_2 + 5.0*L**2*m_3,\n",
       "        1.0*L**2*m_2 + 3.0*L**2*m_3, 1.0*L**2*m_3],\n",
       "       [1.0*L**2*m_2 + 3.0*L**2*m_3, 1.0*L**2*m_2 + 2.0*L**2*m_3,\n",
       "        1.0*L**2*m_3],\n",
       "       [1.0*L**2*m_3, 1.0*L**2*m_3, 1.0*L**2*m_3]], dtype=object)"
      ]
     },
     "execution_count": 19,
     "metadata": {},
     "output_type": "execute_result"
    }
   ],
   "source": [
    "M_real = lambdify([theta_1,theta_2,theta_3], M)\n",
    "M_real(np.pi/2,0,0)"
   ]
  },
  {
   "cell_type": "markdown",
   "id": "5427731b",
   "metadata": {},
   "source": [
    "## 6."
   ]
  },
  {
   "cell_type": "code",
   "execution_count": 20,
   "id": "ceea5e28",
   "metadata": {},
   "outputs": [
    {
     "data": {
      "text/latex": [
       "$\\displaystyle \\left[\\begin{matrix}- L g m_{1} \\cos{\\left(\\theta_{1}{\\left(t \\right)} \\right)}\\\\0\\\\0\\end{matrix}\\right]$"
      ],
      "text/plain": [
       "⎡-L⋅g⋅m₁⋅cos(θ₁(t))⎤\n",
       "⎢                  ⎥\n",
       "⎢        0         ⎥\n",
       "⎢                  ⎥\n",
       "⎣        0         ⎦"
      ]
     },
     "metadata": {},
     "output_type": "display_data"
    },
    {
     "data": {
      "text/latex": [
       "$\\displaystyle \\left[\\begin{matrix}- L g m_{2} \\left(- \\sin{\\left(\\theta_{1}{\\left(t \\right)} \\right)} + \\cos{\\left(\\theta_{1}{\\left(t \\right)} + \\theta_{2}{\\left(t \\right)} \\right)}\\right)\\\\- L g m_{2} \\cos{\\left(\\theta_{1}{\\left(t \\right)} + \\theta_{2}{\\left(t \\right)} \\right)}\\\\0\\end{matrix}\\right]$"
      ],
      "text/plain": [
       "⎡-L⋅g⋅m₂⋅(-sin(θ₁(t)) + cos(θ₁(t) + θ₂(t)))⎤\n",
       "⎢                                          ⎥\n",
       "⎢        -L⋅g⋅m₂⋅cos(θ₁(t) + θ₂(t))        ⎥\n",
       "⎢                                          ⎥\n",
       "⎣                    0                     ⎦"
      ]
     },
     "metadata": {},
     "output_type": "display_data"
    },
    {
     "data": {
      "text/latex": [
       "$\\displaystyle \\left[\\begin{matrix}- L g m_{3} \\left(- \\sin{\\left(\\theta_{1}{\\left(t \\right)} + \\theta_{2}{\\left(t \\right)} \\right)} - \\sin{\\left(\\theta_{1}{\\left(t \\right)} \\right)} + \\cos{\\left(\\theta_{1}{\\left(t \\right)} + \\theta_{2}{\\left(t \\right)} + \\theta_{3}{\\left(t \\right)} \\right)}\\right)\\\\- L g m_{3} \\left(- \\sin{\\left(\\theta_{1}{\\left(t \\right)} + \\theta_{2}{\\left(t \\right)} \\right)} + \\cos{\\left(\\theta_{1}{\\left(t \\right)} + \\theta_{2}{\\left(t \\right)} + \\theta_{3}{\\left(t \\right)} \\right)}\\right)\\\\- L g m_{3} \\cos{\\left(\\theta_{1}{\\left(t \\right)} + \\theta_{2}{\\left(t \\right)} + \\theta_{3}{\\left(t \\right)} \\right)}\\end{matrix}\\right]$"
      ],
      "text/plain": [
       "⎡-L⋅g⋅m₃⋅(-sin(θ₁(t) + θ₂(t)) - sin(θ₁(t)) + cos(θ₁(t) + θ₂(t) + θ₃(t)))⎤\n",
       "⎢                                                                       ⎥\n",
       "⎢      -L⋅g⋅m₃⋅(-sin(θ₁(t) + θ₂(t)) + cos(θ₁(t) + θ₂(t) + θ₃(t)))       ⎥\n",
       "⎢                                                                       ⎥\n",
       "⎣                  -L⋅g⋅m₃⋅cos(θ₁(t) + θ₂(t) + θ₃(t))                   ⎦"
      ]
     },
     "metadata": {},
     "output_type": "display_data"
    }
   ],
   "source": [
    "G1 = J1.T*Matrix([[0],[-m_1*g]])\n",
    "G2 = J2.T*Matrix([[0],[-m_2*g]])\n",
    "G3 = J3.T*Matrix([[0],[-m_3*g]])\n",
    "display(G1)\n",
    "display(G2)\n",
    "display(G3)"
   ]
  },
  {
   "cell_type": "markdown",
   "id": "1cf5bae5",
   "metadata": {},
   "source": [
    "## 7."
   ]
  },
  {
   "cell_type": "code",
   "execution_count": 21,
   "id": "274c46be",
   "metadata": {},
   "outputs": [
    {
     "data": {
      "text/plain": [
       "array([[-6.12323399573677e-17*L*g*m_1],\n",
       "       [0],\n",
       "       [0],\n",
       "       [1.0*L*g*m_2],\n",
       "       [-6.12323399573677e-17*L*g*m_2],\n",
       "       [0],\n",
       "       [2.0*L*g*m_3],\n",
       "       [1.0*L*g*m_3],\n",
       "       [-6.12323399573677e-17*L*g*m_3]], dtype=object)"
      ]
     },
     "execution_count": 21,
     "metadata": {},
     "output_type": "execute_result"
    }
   ],
   "source": [
    "G = Matrix.vstack(G1,G2,G3)\n",
    "G_real = lambdify([theta_1,theta_2,theta_3], G)\n",
    "G_real(np.pi/2,0,0)"
   ]
  },
  {
   "cell_type": "markdown",
   "id": "07e6fe58",
   "metadata": {},
   "source": [
    "## 3 Required and optional paper review"
   ]
  },
  {
   "cell_type": "markdown",
   "id": "42c0723c",
   "metadata": {},
   "source": [
    "It was an interesting reading, where the tone was a lot less formal then the previous papers we had been exposed to. I'd be curious to know if this kind of tone is something that we could do for the final paper."
   ]
  },
  {
   "cell_type": "code",
   "execution_count": null,
   "id": "b984e2bd",
   "metadata": {},
   "outputs": [],
   "source": []
  }
 ],
 "metadata": {
  "kernelspec": {
   "display_name": "Python 3 (ipykernel)",
   "language": "python",
   "name": "python3"
  },
  "language_info": {
   "codemirror_mode": {
    "name": "ipython",
    "version": 3
   },
   "file_extension": ".py",
   "mimetype": "text/x-python",
   "name": "python",
   "nbconvert_exporter": "python",
   "pygments_lexer": "ipython3",
   "version": "3.11.5"
  }
 },
 "nbformat": 4,
 "nbformat_minor": 5
}
