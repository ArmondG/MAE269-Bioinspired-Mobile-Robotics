{
 "cells": [
  {
   "cell_type": "markdown",
   "id": "e97189a2",
   "metadata": {},
   "source": [
    "## 1 Simulating a multi-link system"
   ]
  },
  {
   "cell_type": "code",
   "execution_count": 1,
   "id": "6b725b09",
   "metadata": {},
   "outputs": [],
   "source": [
    "# symbolic computation tools\n",
    "import sympy as sp\n",
    "from sympy import symbols, pprint\n",
    "from sympy import sin, cos, asin, acos, pi, lambdify\n",
    "from sympy import Matrix, simplify, Function, diff, Derivative, nsimplify\n",
    "from sympy import Symbol\n",
    "\n",
    "from scipy.integrate import solve_ivp\n",
    "\n",
    "from sympy.physics.mechanics import *\n",
    "\n",
    "import numpy as np\n",
    "\n",
    "from IPython import display # for the animation\n",
    "import matplotlib as mpl\n",
    "mpl.use('Qt5Agg')\n",
    "sp.init_printing(use_latex=True);\n",
    "\n",
    "import matplotlib.pyplot as plt\n",
    "plt.ion()\n",
    "\n",
    "\n",
    "# styling for plots\n",
    "mpl.rcParams['axes.titlesize'] = 24\n",
    "mpl.rcParams['axes.labelsize'] = 20\n",
    "mpl.rcParams['lines.linewidth'] = 3\n",
    "mpl.rcParams['lines.markersize'] = 10\n",
    "mpl.rcParams['xtick.labelsize'] = 16\n",
    "mpl.rcParams['ytick.labelsize'] = 16"
   ]
  },
  {
   "cell_type": "markdown",
   "id": "9849702b",
   "metadata": {},
   "source": [
    "## 1."
   ]
  },
  {
   "cell_type": "code",
   "execution_count": 2,
   "id": "25a57676",
   "metadata": {},
   "outputs": [],
   "source": [
    "(t, \n",
    " theta_1, \n",
    " theta_2, \n",
    " theta_3, \n",
    " l_1, \n",
    " l_2, \n",
    " l_3, \n",
    " m_1,\n",
    " m_2,\n",
    " m_3,\n",
    " g) = symbols(\"\"\"t, \n",
    "                         theta_1 \n",
    "                         theta_2 \n",
    "                         theta_3 \n",
    "                         l_1 \n",
    "                         l_2 \n",
    "                         l_3\n",
    "                         m_1\n",
    "                         m_2\n",
    "                         m_3\n",
    "                         g\"\"\" , real = True)\n",
    "\n",
    "\n",
    "theta_1 = Function('theta_1', real=True)(t)\n",
    "theta_2 = Function('theta_2', real=True)(t)\n",
    "theta_3 = Function('theta_3', real=True)(t)\n",
    "\n",
    "q1, q2, q3 = dynamicsymbols('q1 q2 q3')"
   ]
  },
  {
   "cell_type": "code",
   "execution_count": 3,
   "id": "2bdb438c",
   "metadata": {},
   "outputs": [],
   "source": [
    "def T(theta, x, y):\n",
    "    \"\"\"\n",
    "    Function to return an arbitrary transformation matrix \n",
    "    This is for sympy symbolic calculation\n",
    "    \"\"\"\n",
    "    return Matrix([[cos(theta), -sin(theta), x], \n",
    "                   [sin(theta), cos(theta), y],\n",
    "                   [0, 0, 1]])\n",
    "\n",
    "def sym_to_np(T):\n",
    "    return np.array(T).astype(np.float64)"
   ]
  },
  {
   "cell_type": "code",
   "execution_count": 4,
   "id": "a9922753",
   "metadata": {},
   "outputs": [
    {
     "data": {
      "image/png": "[encoded data removed]",
      "text/latex": [
       "$\\displaystyle - g l_{1} m_{1} \\sin{\\left(q_{1}{\\left(t \\right)} \\right)} - g m_{2} \\left(l_{1} \\sin{\\left(q_{1}{\\left(t \\right)} \\right)} + l_{2} \\sin{\\left(q_{1}{\\left(t \\right)} + q_{2}{\\left(t \\right)} \\right)}\\right) - g m_{3} \\left(l_{1} \\sin{\\left(q_{1}{\\left(t \\right)} \\right)} + l_{3} \\sin{\\left(q_{1}{\\left(t \\right)} + q_{2}{\\left(t \\right)} + q_{3}{\\left(t \\right)} \\right)} + \\left(l_{1} + l_{2}\\right) \\sin{\\left(q_{1}{\\left(t \\right)} + q_{2}{\\left(t \\right)} \\right)}\\right) + 0.5 l_{1}^{2} m_{1} \\left(\\frac{d}{d t} q_{1}{\\left(t \\right)}\\right)^{2} + 0.5 m_{2} \\left(l_{1}^{2} \\left(\\frac{d}{d t} q_{1}{\\left(t \\right)}\\right)^{2} + 2 l_{1} l_{2} \\cos{\\left(q_{2}{\\left(t \\right)} \\right)} \\left(\\frac{d}{d t} q_{1}{\\left(t \\right)}\\right)^{2} + 2 l_{1} l_{2} \\cos{\\left(q_{2}{\\left(t \\right)} \\right)} \\frac{d}{d t} q_{1}{\\left(t \\right)} \\frac{d}{d t} q_{2}{\\left(t \\right)} + l_{2}^{2} \\left(\\frac{d}{d t} q_{1}{\\left(t \\right)}\\right)^{2} + 2 l_{2}^{2} \\frac{d}{d t} q_{1}{\\left(t \\right)} \\frac{d}{d t} q_{2}{\\left(t \\right)} + l_{2}^{2} \\left(\\frac{d}{d t} q_{2}{\\left(t \\right)}\\right)^{2}\\right) + 0.5 m_{3} \\left(\\left(l_{1} \\sin{\\left(q_{1}{\\left(t \\right)} \\right)} \\frac{d}{d t} q_{1}{\\left(t \\right)} + l_{3} \\left(\\frac{d}{d t} q_{1}{\\left(t \\right)} + \\frac{d}{d t} q_{2}{\\left(t \\right)} + \\frac{d}{d t} q_{3}{\\left(t \\right)}\\right) \\sin{\\left(q_{1}{\\left(t \\right)} + q_{2}{\\left(t \\right)} + q_{3}{\\left(t \\right)} \\right)} + \\left(l_{1} + l_{2}\\right) \\left(\\frac{d}{d t} q_{1}{\\left(t \\right)} + \\frac{d}{d t} q_{2}{\\left(t \\right)}\\right) \\sin{\\left(q_{1}{\\left(t \\right)} + q_{2}{\\left(t \\right)} \\right)}\\right)^{2} + \\left(l_{1} \\cos{\\left(q_{1}{\\left(t \\right)} \\right)} \\frac{d}{d t} q_{1}{\\left(t \\right)} + l_{3} \\left(\\frac{d}{d t} q_{1}{\\left(t \\right)} + \\frac{d}{d t} q_{2}{\\left(t \\right)} + \\frac{d}{d t} q_{3}{\\left(t \\right)}\\right) \\cos{\\left(q_{1}{\\left(t \\right)} + q_{2}{\\left(t \\right)} + q_{3}{\\left(t \\right)} \\right)} + \\left(l_{1} + l_{2}\\right) \\left(\\frac{d}{d t} q_{1}{\\left(t \\right)} + \\frac{d}{d t} q_{2}{\\left(t \\right)}\\right) \\cos{\\left(q_{1}{\\left(t \\right)} + q_{2}{\\left(t \\right)} \\right)}\\right)^{2}\\right)$"
      ],
      "text/plain": [
       "                                                                              \n",
       "                                                                              \n",
       "-g⋅l₁⋅m₁⋅sin(q₁(t)) - g⋅m₂⋅(l₁⋅sin(q₁(t)) + l₂⋅sin(q₁(t) + q₂(t))) - g⋅m₃⋅(l₁⋅\n",
       "                                                                              \n",
       "\n",
       "                                                                              \n",
       "                                                                              \n",
       "sin(q₁(t)) + l₃⋅sin(q₁(t) + q₂(t) + q₃(t)) + (l₁ + l₂)⋅sin(q₁(t) + q₂(t))) + 0\n",
       "                                                                              \n",
       "\n",
       "                     2          ⎛               2                             \n",
       "     2    ⎛d        ⎞           ⎜  2 ⎛d        ⎞                       ⎛d     \n",
       ".5⋅l₁ ⋅m₁⋅⎜──(q₁(t))⎟  + 0.5⋅m₂⋅⎜l₁ ⋅⎜──(q₁(t))⎟  + 2⋅l₁⋅l₂⋅cos(q₂(t))⋅⎜──(q₁(\n",
       "          ⎝dt       ⎠           ⎝    ⎝dt       ⎠                       ⎝dt    \n",
       "\n",
       "    2                                                           2             \n",
       "   ⎞                       d         d             2 ⎛d        ⎞        2 d   \n",
       "t))⎟  + 2⋅l₁⋅l₂⋅cos(q₂(t))⋅──(q₁(t))⋅──(q₂(t)) + l₂ ⋅⎜──(q₁(t))⎟  + 2⋅l₂ ⋅──(q\n",
       "   ⎠                       dt        dt              ⎝dt       ⎠          dt  \n",
       "\n",
       "                                 2⎞          ⎛                                \n",
       "      d             2 ⎛d        ⎞ ⎟          ⎜⎛              d              ⎛d\n",
       "₁(t))⋅──(q₂(t)) + l₂ ⋅⎜──(q₂(t))⎟ ⎟ + 0.5⋅m₃⋅⎜⎜l₁⋅sin(q₁(t))⋅──(q₁(t)) + l₃⋅⎜─\n",
       "      dt              ⎝dt       ⎠ ⎠          ⎝⎝              dt             ⎝d\n",
       "\n",
       "                                                                              \n",
       "           d           d        ⎞                                        ⎛d   \n",
       "─(q₁(t)) + ──(q₂(t)) + ──(q₃(t))⎟⋅sin(q₁(t) + q₂(t) + q₃(t)) + (l₁ + l₂)⋅⎜──(q\n",
       "t          dt          dt       ⎠                                        ⎝dt  \n",
       "\n",
       "                                      2                                       \n",
       "        d        ⎞                   ⎞    ⎛              d              ⎛d    \n",
       "₁(t)) + ──(q₂(t))⎟⋅sin(q₁(t) + q₂(t))⎟  + ⎜l₁⋅cos(q₁(t))⋅──(q₁(t)) + l₃⋅⎜──(q₁\n",
       "        dt       ⎠                   ⎠    ⎝              dt             ⎝dt   \n",
       "\n",
       "                                                                              \n",
       "       d           d        ⎞                                        ⎛d       \n",
       "(t)) + ──(q₂(t)) + ──(q₃(t))⎟⋅cos(q₁(t) + q₂(t) + q₃(t)) + (l₁ + l₂)⋅⎜──(q₁(t)\n",
       "       dt          dt       ⎠                                        ⎝dt      \n",
       "\n",
       "                                  2⎞\n",
       "    d        ⎞                   ⎞ ⎟\n",
       ") + ──(q₂(t))⎟⋅cos(q₁(t) + q₂(t))⎟ ⎟\n",
       "    dt       ⎠                   ⎠ ⎠"
      ]
     },
     "execution_count": 4,
     "metadata": {},
     "output_type": "execute_result"
    }
   ],
   "source": [
    "T_01 = T(q1, 0, 0)\n",
    "T_12 = T(q2, l_1, 0)\n",
    "T_23 = T(q3, l_1+l_2, 0)\n",
    "\n",
    "FK1 = (T_01 * Matrix([[l_1], [0], [1]]))[:-1,0]\n",
    "FK2 = simplify((T_01 * T_12 * Matrix([[l_2], [0], [1]]))[:-1,0])\n",
    "FK3 = simplify((T_01 * T_12 * T_23 * Matrix([[l_3], [0], [1]]))[:-1,0])\n",
    "\n",
    "v1 = diff(FK1,Symbol('t'))\n",
    "KE1 = (1/2)*m_1*(v1.T * v1)[0]\n",
    "\n",
    "v2 = diff(FK2,Symbol('t'))\n",
    "KE2 = (1/2)*m_2*(v2.T * v2)[0]\n",
    "KE2\n",
    "\n",
    "v3 = diff(FK3,Symbol('t'))\n",
    "KE3 = (1/2)*m_3*(v3.T * v3)[0]\n",
    "KE3\n",
    "\n",
    "T = KE1 + KE2 + KE3\n",
    "V = m_1*g*FK1[1] + m_2*g*FK2[1] + m_3*g*FK3[1]\n",
    "\n",
    "L = T - V\n",
    "L = simplify(L)\n",
    "L\n"
   ]
  },
  {
   "cell_type": "code",
   "execution_count": 5,
   "id": "ac08cfa5",
   "metadata": {},
   "outputs": [
    {
     "data": {
      "text/latex": [
       "$\\displaystyle \\left[\\begin{matrix}1.0 l_{1}^{2} m_{1} + m_{2} \\left(l_{1}^{2} + 2 l_{1} l_{2} \\cos{\\left(q_{2}{\\left(t \\right)} \\right)} + l_{2}^{2}\\right) + m_{3} \\cdot \\left(2 l_{1}^{2} \\cos{\\left(q_{2}{\\left(t \\right)} \\right)} + 2 l_{1}^{2} + 2 l_{1} l_{2} \\cos{\\left(q_{2}{\\left(t \\right)} \\right)} + 2 l_{1} l_{2} + 2 l_{1} l_{3} \\cos{\\left(q_{2}{\\left(t \\right)} + q_{3}{\\left(t \\right)} \\right)} + 2 l_{1} l_{3} \\cos{\\left(q_{3}{\\left(t \\right)} \\right)} + l_{2}^{2} + 2 l_{2} l_{3} \\cos{\\left(q_{3}{\\left(t \\right)} \\right)} + l_{3}^{2}\\right) & l_{2} m_{2} \\left(l_{1} \\cos{\\left(q_{2}{\\left(t \\right)} \\right)} + l_{2}\\right) + m_{3} \\left(l_{1}^{2} \\cos{\\left(q_{2}{\\left(t \\right)} \\right)} + l_{1}^{2} + l_{1} l_{2} \\cos{\\left(q_{2}{\\left(t \\right)} \\right)} + 2 l_{1} l_{2} + l_{1} l_{3} \\cos{\\left(q_{2}{\\left(t \\right)} + q_{3}{\\left(t \\right)} \\right)} + 2 l_{1} l_{3} \\cos{\\left(q_{3}{\\left(t \\right)} \\right)} + l_{2}^{2} + 2 l_{2} l_{3} \\cos{\\left(q_{3}{\\left(t \\right)} \\right)} + l_{3}^{2}\\right) & 1.0 l_{3} m_{3} \\left(l_{1} \\cos{\\left(q_{2}{\\left(t \\right)} + q_{3}{\\left(t \\right)} \\right)} + l_{1} \\cos{\\left(q_{3}{\\left(t \\right)} \\right)} + l_{2} \\cos{\\left(q_{3}{\\left(t \\right)} \\right)} + l_{3}\\right)\\\\l_{2} m_{2} \\left(l_{1} \\cos{\\left(q_{2}{\\left(t \\right)} \\right)} + l_{2}\\right) + m_{3} \\left(l_{1}^{2} \\cos{\\left(q_{2}{\\left(t \\right)} \\right)} + l_{1}^{2} + l_{1} l_{2} \\cos{\\left(q_{2}{\\left(t \\right)} \\right)} + 2 l_{1} l_{2} + l_{1} l_{3} \\cos{\\left(q_{2}{\\left(t \\right)} + q_{3}{\\left(t \\right)} \\right)} + 2 l_{1} l_{3} \\cos{\\left(q_{3}{\\left(t \\right)} \\right)} + l_{2}^{2} + 2 l_{2} l_{3} \\cos{\\left(q_{3}{\\left(t \\right)} \\right)} + l_{3}^{2}\\right) & 1.0 l_{2}^{2} m_{2} + m_{3} \\left(l_{1}^{2} + 2 l_{1} l_{2} + 2 l_{1} l_{3} \\cos{\\left(q_{3}{\\left(t \\right)} \\right)} + l_{2}^{2} + 2 l_{2} l_{3} \\cos{\\left(q_{3}{\\left(t \\right)} \\right)} + l_{3}^{2}\\right) & 1.0 l_{3} m_{3} \\left(l_{1} \\cos{\\left(q_{3}{\\left(t \\right)} \\right)} + l_{2} \\cos{\\left(q_{3}{\\left(t \\right)} \\right)} + l_{3}\\right)\\\\1.0 l_{3} m_{3} \\left(l_{1} \\cos{\\left(q_{2}{\\left(t \\right)} + q_{3}{\\left(t \\right)} \\right)} + l_{1} \\cos{\\left(q_{3}{\\left(t \\right)} \\right)} + l_{2} \\cos{\\left(q_{3}{\\left(t \\right)} \\right)} + l_{3}\\right) & 1.0 l_{3} m_{3} \\left(l_{1} \\cos{\\left(q_{3}{\\left(t \\right)} \\right)} + l_{2} \\cos{\\left(q_{3}{\\left(t \\right)} \\right)} + l_{3}\\right) & 1.0 l_{3}^{2} m_{3}\\end{matrix}\\right]$"
      ],
      "text/plain": [
       "⎡      2         ⎛  2                          2⎞      ⎛    2                 \n",
       "⎢1.0⋅l₁ ⋅m₁ + m₂⋅⎝l₁  + 2⋅l₁⋅l₂⋅cos(q₂(t)) + l₂ ⎠ + m₃⋅⎝2⋅l₁ ⋅cos(q₂(t)) + 2⋅l\n",
       "⎢                                                                             \n",
       "⎢                                               ⎛  2                2         \n",
       "⎢               l₂⋅m₂⋅(l₁⋅cos(q₂(t)) + l₂) + m₃⋅⎝l₁ ⋅cos(q₂(t)) + l₁  + l₁⋅l₂⋅\n",
       "⎢                                                                             \n",
       "⎢                                                                             \n",
       "⎣                                                              1.0⋅l₃⋅m₃⋅(l₁⋅c\n",
       "\n",
       " 2                                                                            \n",
       "₁  + 2⋅l₁⋅l₂⋅cos(q₂(t)) + 2⋅l₁⋅l₂ + 2⋅l₁⋅l₃⋅cos(q₂(t) + q₃(t)) + 2⋅l₁⋅l₃⋅cos(q\n",
       "                                                                              \n",
       "                                                                         2    \n",
       "cos(q₂(t)) + 2⋅l₁⋅l₂ + l₁⋅l₃⋅cos(q₂(t) + q₃(t)) + 2⋅l₁⋅l₃⋅cos(q₃(t)) + l₂  + 2\n",
       "                                                                              \n",
       "                                                                              \n",
       "os(q₂(t) + q₃(t)) + l₁⋅cos(q₃(t)) + l₂⋅cos(q₃(t)) + l₃)                       \n",
       "\n",
       "          2                          2⎞                                  ⎛  2 \n",
       "₃(t)) + l₂  + 2⋅l₂⋅l₃⋅cos(q₃(t)) + l₃ ⎠  l₂⋅m₂⋅(l₁⋅cos(q₂(t)) + l₂) + m₃⋅⎝l₁ ⋅\n",
       "                                                                              \n",
       "                      2⎞                                                      \n",
       "⋅l₂⋅l₃⋅cos(q₃(t)) + l₃ ⎠                                                      \n",
       "                                                                              \n",
       "                                                                              \n",
       "                                                                              \n",
       "\n",
       "               2                                                              \n",
       "cos(q₂(t)) + l₁  + l₁⋅l₂⋅cos(q₂(t)) + 2⋅l₁⋅l₂ + l₁⋅l₃⋅cos(q₂(t) + q₃(t)) + 2⋅l\n",
       "                                                                              \n",
       "        2         ⎛  2                                    2                   \n",
       "  1.0⋅l₂ ⋅m₂ + m₃⋅⎝l₁  + 2⋅l₁⋅l₂ + 2⋅l₁⋅l₃⋅cos(q₃(t)) + l₂  + 2⋅l₂⋅l₃⋅cos(q₃(t\n",
       "                                                                              \n",
       "                                                                              \n",
       "                      1.0⋅l₃⋅m₃⋅(l₁⋅cos(q₃(t)) + l₂⋅cos(q₃(t)) + l₃)          \n",
       "\n",
       "                    2                          2⎞                             \n",
       "₁⋅l₃⋅cos(q₃(t)) + l₂  + 2⋅l₂⋅l₃⋅cos(q₃(t)) + l₃ ⎠  1.0⋅l₃⋅m₃⋅(l₁⋅cos(q₂(t) + q\n",
       "                                                                              \n",
       "       2⎞                                                                     \n",
       ")) + l₃ ⎠                                                      1.0⋅l₃⋅m₃⋅(l₁⋅c\n",
       "                                                                              \n",
       "                                                                              \n",
       "                                                                              \n",
       "\n",
       "                                           ⎤\n",
       "₃(t)) + l₁⋅cos(q₃(t)) + l₂⋅cos(q₃(t)) + l₃)⎥\n",
       "                                           ⎥\n",
       "                                           ⎥\n",
       "os(q₃(t)) + l₂⋅cos(q₃(t)) + l₃)            ⎥\n",
       "                                           ⎥\n",
       "         2                                 ⎥\n",
       "   1.0⋅l₃ ⋅m₃                              ⎦"
      ]
     },
     "execution_count": 5,
     "metadata": {},
     "output_type": "execute_result"
    }
   ],
   "source": [
    "q = [q1, q2, q3]\n",
    "l = LagrangesMethod(L, q)\n",
    "le = l.form_lagranges_equations()\n",
    "forcing = simplify(l.forcing)\n",
    "mass = simplify(l.mass_matrix)\n",
    "mass"
   ]
  },
  {
   "cell_type": "markdown",
   "id": "7dc37490",
   "metadata": {},
   "source": [
    "## 2."
   ]
  },
  {
   "cell_type": "code",
   "execution_count": 6,
   "id": "cfef7f99",
   "metadata": {},
   "outputs": [],
   "source": [
    "M =   lambdify((q1, q2, q3, Derivative(q1, Symbol('t')), Derivative(q2, Symbol('t')), Derivative(q3, Symbol('t')),\n",
    "                l_1, l_2, l_3, m_1, m_2, m_3), mass)\n",
    "EOM = lambdify((q1, q2, q3, Derivative(q1, Symbol('t')), Derivative(q2, Symbol('t')), Derivative(q3, Symbol('t')),\n",
    "                l_1, l_2, l_3, m_1, m_2, m_3), forcing.subs(g,9.8))"
   ]
  },
  {
   "cell_type": "code",
   "execution_count": 7,
   "id": "711cdacb-8ca4-4eb9-81b6-2bf609d4abf1",
   "metadata": {
    "scrolled": true,
    "tags": []
   },
   "outputs": [
    {
     "data": {
      "text/plain": [
       "array([[21., 14.,  4.],\n",
       "       [14., 10.,  3.],\n",
       "       [ 4.,  3.,  1.]])"
      ]
     },
     "execution_count": 7,
     "metadata": {},
     "output_type": "execute_result"
    }
   ],
   "source": [
    "M(0,0, 0, 0, 0, 0, 1, 1, 1, 1, 1, 1)"
   ]
  },
  {
   "cell_type": "code",
   "execution_count": 8,
   "id": "39175e98-e501-4212-9702-e9269fc1502a",
   "metadata": {
    "tags": []
   },
   "outputs": [
    {
     "data": {
      "text/plain": [
       "array([[1670.6],\n",
       "       [-400. ],\n",
       "       [-100. ]])"
      ]
     },
     "execution_count": 8,
     "metadata": {},
     "output_type": "execute_result"
    }
   ],
   "source": [
    "EOM(0, np.pi/2, 0, 10, 10, 10, 1, 1, 1, 1,1,1)"
   ]
  },
  {
   "cell_type": "code",
   "execution_count": 9,
   "id": "cd3188cb",
   "metadata": {},
   "outputs": [],
   "source": [
    "def dynamics(t, state, l_1, l_2, l_3, m_1, m_2, m_3):\n",
    "    theta_1, theta_2, theta_3, dtheta_1, dtheta_2, dtheta_3 = state\n",
    "    \n",
    "    dydt = np.linalg.inv(M(theta_1, theta_2, theta_3, dtheta_1, dtheta_2, dtheta_3, l_1, l_2, l_3, m_1, m_2, m_3))@(EOM(theta_1, theta_2, theta_3, dtheta_1, dtheta_2, dtheta_3, l_1, l_2, l_3, m_1, m_2, m_3))\n",
    "\n",
    "    return [dtheta_1, dtheta_2, dtheta_3, dydt[0][0], dydt[1][0], dydt[2][0]]"
   ]
  },
  {
   "cell_type": "code",
   "execution_count": 10,
   "id": "5b452237",
   "metadata": {},
   "outputs": [],
   "source": [
    "l1 = 1\n",
    "l2 = 1\n",
    "l3 = 1.5\n",
    "m1 = 1\n",
    "m2 = 1\n",
    "m3 = 2\n",
    "\n",
    "\n",
    "t_end = 10\n",
    "dt = 0.0001\n",
    "time = np.linspace(0,t_end,int(t_end/dt))\n",
    "skip = 10\n",
    "\n",
    "sol = solve_ivp(lambda t, y: dynamics(t, y, l1, l2, l3, m1, m2, m3),\n",
    "                [0,t_end], [np.pi/2, 0, 0, 0, 0, 0], \n",
    "                t_eval = time, \n",
    "                rtol=1e-8, atol = 1e-8)\n",
    "\n",
    "theta1 = sol.y[0,0:-1:skip]\n",
    "theta2 = sol.y[1,0:-1:skip]\n",
    "theta3 = sol.y[2,0:-1:skip]"
   ]
  },
  {
   "cell_type": "markdown",
   "id": "41ac6683",
   "metadata": {},
   "source": [
    "## 3."
   ]
  },
  {
   "cell_type": "code",
   "execution_count": 11,
   "id": "0e9db6cf",
   "metadata": {},
   "outputs": [
    {
     "data": {
      "text/plain": [
       "<matplotlib.legend.Legend at 0x226afed9c90>"
      ]
     },
     "execution_count": 11,
     "metadata": {},
     "output_type": "execute_result"
    }
   ],
   "source": [
    "plt.clf()\n",
    "plt.plot(sol.t, sol.y[0,:])\n",
    "plt.plot(sol.t, sol.y[1,:])\n",
    "plt.plot(sol.t, sol.y[2,:])\n",
    "plt.ylabel('joint angles')\n",
    "plt.xlabel('time (seconds)')\n",
    "plt.legend(['theta1','theta2','theta3'])"
   ]
  },
  {
   "cell_type": "code",
   "execution_count": null,
   "id": "ddc88e47",
   "metadata": {},
   "outputs": [],
   "source": []
  }
 ],
 "metadata": {
  "kernelspec": {
   "display_name": "Python 3 (ipykernel)",
   "language": "python",
   "name": "python3"
  },
  "language_info": {
   "codemirror_mode": {
    "name": "ipython",
    "version": 3
   },
   "file_extension": ".py",
   "mimetype": "text/x-python",
   "name": "python",
   "nbconvert_exporter": "python",
   "pygments_lexer": "ipython3",
   "version": "3.11.5"
  }
 },
 "nbformat": 4,
 "nbformat_minor": 5
}
